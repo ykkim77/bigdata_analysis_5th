{
  "cells": [
    {
      "cell_type": "markdown",
      "metadata": {
        "id": "4uwHkx0Yrl2V"
      },
      "source": [
        "# **Numpy 활용하기**"
      ]
    },
    {
      "cell_type": "markdown",
      "metadata": {
        "id": "s4c4VNfJCMqm"
      },
      "source": [
        "**배열 만들기 및 초기화**"
      ]
    },
    {
      "cell_type": "code",
      "execution_count": null,
      "metadata": {
        "colab": {
          "base_uri": "https://localhost:8080/"
        },
        "id": "kdQbrtN2SoGs",
        "outputId": "19a2b744-a65b-4d0b-9d4d-37bd23961828"
      },
      "outputs": [
        {
          "name": "stdout",
          "output_type": "stream",
          "text": [
            "[1 2 3 4 5 6]\n",
            "[[1 2 3]\n",
            " [4 5 6]]\n",
            "(2, 3)\n",
            "[[ 0.37019967 -1.1892322  -0.58748825]\n",
            " [-0.40490066  0.07928488 -0.89950065]]\n",
            "[0. 0. 0. 0. 0.]\n",
            "[[1. 1. 1.]\n",
            " [1. 1. 1.]]\n"
          ]
        }
      ],
      "source": [
        "import numpy as np # 행렬 연산 기능을 제공하는 라이브러리\n",
        "\n",
        "data = np.array([1,2,3,4,5,6]) # 1차원 배열 생성\n",
        "data_2d = np.array([[1,2,3],[4,5,6]]) # 1차원 배열 생성\n",
        "data_random = np.random.randn(2,3) # 2차원 배열 생성\n",
        "data_zeros = np.zeros(5) # 0으로 초기화\n",
        "data_ones = np.ones((2,3)) # 1로 초기화\n",
        "\n",
        "print(data)\n",
        "print(data_2d)\n",
        "print(data_2d.shape)\n",
        "print(data_random)\n",
        "print(data_zeros)\n",
        "print(data_ones)"
      ]
    },
    {
      "cell_type": "markdown",
      "metadata": {
        "id": "hOZR8GJpMcqR"
      },
      "source": [
        "**배열 만들기(arange 활용)**"
      ]
    },
    {
      "cell_type": "code",
      "execution_count": null,
      "metadata": {
        "colab": {
          "base_uri": "https://localhost:8080/"
        },
        "id": "ecZ5iLkM9aF1",
        "outputId": "996bef2d-e905-41e1-b869-2ce8c1c28e1a"
      },
      "outputs": [
        {
          "name": "stdout",
          "output_type": "stream",
          "text": [
            "[ 10  20  30  40  50  60  70  80  90 100 110 120]\n",
            "[[ 10  20  30  40  50  60]\n",
            " [ 70  80  90 100 110 120]]\n"
          ]
        }
      ],
      "source": [
        "import numpy as np\n",
        "\n",
        "data_arange = np.arange(10, 121, 10) # 시작값 10 종료값 121 스텝 10\n",
        "data_reshape = data_arange.reshape((2,6)) # data_arange 행렬의 shape을 2x6으로 변환\n",
        "\n",
        "print(data_arange)\n",
        "print(data_reshape)\n"
      ]
    },
    {
      "cell_type": "markdown",
      "metadata": {
        "id": "RCR-sr47MZsy"
      },
      "source": [
        "**배열의 요소 추출**"
      ]
    },
    {
      "cell_type": "code",
      "execution_count": null,
      "metadata": {
        "colab": {
          "base_uri": "https://localhost:8080/"
        },
        "id": "WNWnsZipWg-P",
        "outputId": "b543a9c8-50cc-4662-f6f2-a4016c3ea7dc"
      },
      "outputs": [
        {
          "name": "stdout",
          "output_type": "stream",
          "text": [
            "[[1 2 3]\n",
            " [4 5 6]\n",
            " [7 8 9]]\n",
            "2\n",
            "[2 3]\n",
            "[[100 100 100]\n",
            " [  4   5   6]\n",
            " [  7   8   9]]\n",
            "[[300 300 300]\n",
            " [300 300 300]\n",
            " [300 300 300]]\n"
          ]
        }
      ],
      "source": [
        "import numpy as np\n",
        "\n",
        "# 2차원 배열 선언\n",
        "data = np.array([[1,2,3], \n",
        "                [4,5,6],\n",
        "                [7,8,9]])\n",
        "print(data)\n",
        "print(data[0][1]) # data (0,1) 값 출력\n",
        "print(data[0][1:]) # data 0번 째 배열의 두 번째 값부터 끝까지 출력\n",
        "\n",
        "data[0] = 100 # data 0번 째 배열의 모든 요소에 100 대입\n",
        "print(data) \n",
        "data[:] = 300 # data 배열의 모든 요소에 300 대입\n",
        "print(data)"
      ]
    },
    {
      "cell_type": "markdown",
      "metadata": {
        "id": "27qQ0Pf2MxVy"
      },
      "source": [
        "**배열의 산술 연산**"
      ]
    },
    {
      "cell_type": "code",
      "execution_count": null,
      "metadata": {
        "colab": {
          "base_uri": "https://localhost:8080/"
        },
        "id": "VIUAh4-8WmZK",
        "outputId": "a6cd9f96-a3ae-4ba9-c8af-9720890d5db3"
      },
      "outputs": [
        {
          "name": "stdout",
          "output_type": "stream",
          "text": [
            "[[ 5.   7.   9. ]\n",
            " [-7.  -6.  19. ]\n",
            " [ 6.   8.9 11. ]]\n",
            "[[ 10.   14.   18. ]\n",
            " [-14.  -12.   38. ]\n",
            " [ 12.   17.8  22. ]]\n",
            "[[ 8.  10.  12. ]\n",
            " [-4.  -3.  22. ]\n",
            " [ 9.  11.9 14. ]]\n",
            "[[False False False]\n",
            " [ True  True False]\n",
            " [False False False]]\n"
          ]
        }
      ],
      "source": [
        "import numpy as np\n",
        "\n",
        "data= np.array([[5,7,9], [-7,-6,19], [6,8.9,11]])\n",
        "data_2 = data * 2 # 모든 요소에 2를 곱함\n",
        "data_3 = data + 3 # 모든 요소에 3을 더함\n",
        "\n",
        "print(data)\n",
        "print(data_2)\n",
        "print(data_3)\n",
        "print(data > data_2) # data와 data_2의 값들을 비교하여 data가 data_2보다 더 크면 True, 작으면 False를 반환"
      ]
    },
    {
      "cell_type": "markdown",
      "metadata": {
        "id": "o5cKTWrxsou_"
      },
      "source": [
        "**배열의 통계 메소드**"
      ]
    },
    {
      "cell_type": "code",
      "execution_count": null,
      "metadata": {
        "colab": {
          "base_uri": "https://localhost:8080/"
        },
        "id": "69KlFUU0eryQ",
        "outputId": "8becc6b4-96fc-4139-e7c1-30ea6653133c"
      },
      "outputs": [
        {
          "name": "stdout",
          "output_type": "stream",
          "text": [
            "[[ 5.   7.   9. ]\n",
            " [-7.  -6.  19. ]\n",
            " [ 6.   8.9 11. ]]\n",
            "52.9\n",
            "5.877777777777777\n",
            "19.0\n",
            "-7.0\n",
            "[ 6.   8.9 19. ]\n",
            "[2 2 1]\n"
          ]
        }
      ],
      "source": [
        "import numpy as np\n",
        "\n",
        "data= np.array([[5,7,9], [-7,-6,19], [6,8.9,11]])\n",
        "\n",
        "print(data)\n",
        "print(data.sum()) #배열 요소의 합계\n",
        "print(data.mean()) #배열 요소의 평균\n",
        "print(data.max()) #배열 요소 중 최댓값\n",
        "print(data.min()) #배열 요소 중 최솟값\n",
        "print(data.max(axis=0)) #열의 요소 값 중 최댓값을 구해서 얻은 배열 반환\n",
        "index_1 = np.argmax(data, axis=0) #각 열에 대해 요소가 최댓값을 가지는 인덱스를 반환\n",
        "print(index_1)"
      ]
    },
    {
      "cell_type": "markdown",
      "metadata": {
        "id": "KKfrSwz8lcOA"
      },
      "source": [
        "**배열에 조건식 사용**"
      ]
    },
    {
      "cell_type": "code",
      "execution_count": null,
      "metadata": {
        "colab": {
          "base_uri": "https://localhost:8080/"
        },
        "id": "zLS8Q8PCjXx2",
        "outputId": "eccf0b88-01fe-4b05-c08f-16ab28bd9bae"
      },
      "outputs": [
        {
          "name": "stdout",
          "output_type": "stream",
          "text": [
            "[[ 2.48863545e+00  2.04334416e+00]\n",
            " [-3.21874028e-01 -1.50487768e+00]\n",
            " [ 2.22242260e-01 -1.34152686e-03]]\n",
            "[[ True  True]\n",
            " [False False]\n",
            " [ True False]]\n",
            "3\n",
            "[[2.48863545 2.04334416]\n",
            " [0.         0.        ]\n",
            " [0.22224226 0.        ]]\n"
          ]
        }
      ],
      "source": [
        "import numpy as np\n",
        "\n",
        "data= np.random.randn(3,2) # 가우시안 표준 정규분포 3x2 난수 배열 선언\n",
        "print(data)\n",
        "print(data > 0)\n",
        "total = (data < 0).sum() #음수의 원소 개수\n",
        "print(total)\n",
        "data_minus = np.where(\n",
        "    data < 0, 0, data) #data 중 음수만 골라서 0으로 변환\n",
        "print(data_minus)"
      ]
    },
    {
      "cell_type": "markdown",
      "metadata": {
        "id": "9uNZWmRNRbmp"
      },
      "source": [
        "**배열의 요소 정렬**"
      ]
    },
    {
      "cell_type": "code",
      "execution_count": null,
      "metadata": {
        "colab": {
          "base_uri": "https://localhost:8080/"
        },
        "id": "68Pvc6-OVbTC",
        "outputId": "f1f1f468-b956-4110-b657-1e6d8b1cc834"
      },
      "outputs": [
        {
          "name": "stdout",
          "output_type": "stream",
          "text": [
            "[[ 9  7  5]\n",
            " [19 -6 -9]\n",
            " [ 6 -2 11]]\n",
            "[[ 6 -6 -9]\n",
            " [ 9 -2  5]\n",
            " [19  7 11]]\n",
            "[[-9 -6  6]\n",
            " [-2  5  9]\n",
            " [ 7 11 19]]\n"
          ]
        }
      ],
      "source": [
        "import numpy as np\n",
        "\n",
        "data= np.array([[9,7,5], [19,-6,-9], [6,-2,11]])\n",
        "\n",
        "print(data)\n",
        "data.sort(0) #열의 요소 오름차순 정렬\n",
        "print(data)\n",
        "data.sort(1) #행의 요소 오름차순 정렬\n",
        "print(data)"
      ]
    },
    {
      "cell_type": "markdown",
      "metadata": {
        "id": "KWwEkU66XwR3"
      },
      "source": [
        "**배열의 브로드캐스팅**"
      ]
    },
    {
      "cell_type": "code",
      "execution_count": null,
      "metadata": {
        "colab": {
          "base_uri": "https://localhost:8080/"
        },
        "id": "0uTVlrVeXzPL",
        "outputId": "08fa2126-3173-45c8-fbc9-79c08f0ff593"
      },
      "outputs": [
        {
          "name": "stdout",
          "output_type": "stream",
          "text": [
            "[[11 13 15]\n",
            " [14 16 18]]\n",
            "[[10 22 36]\n",
            " [40 55 72]]\n"
          ]
        }
      ],
      "source": [
        "import numpy as np\n",
        "\n",
        "data_1 = np.array([[1,2,3], [4,5,6]])\n",
        "data_2 = np.array([10,11,12])\n",
        "\n",
        "sum = data_1 + data_2 #서로 다른 크기의 배열 연산 가능\n",
        "multiply = data_1 * data_2\n",
        "print(sum)\n",
        "print(multiply)"
      ]
    },
    {
      "cell_type": "markdown",
      "metadata": {
        "id": "E6HT-c5wrfBH"
      },
      "source": [
        "# **2. Pandas 활용하기**"
      ]
    },
    {
      "cell_type": "markdown",
      "metadata": {
        "id": "ADTj_RX5X3XR"
      },
      "source": [
        "**Series 객체 생성 및 인덱스 설정**"
      ]
    },
    {
      "cell_type": "code",
      "execution_count": null,
      "metadata": {
        "colab": {
          "base_uri": "https://localhost:8080/"
        },
        "id": "ueoyDCaursLW",
        "outputId": "b49c3d67-9006-4ade-be44-06cd8cc9cc9b"
      },
      "outputs": [
        {
          "name": "stdout",
          "output_type": "stream",
          "text": [
            "0    10\n",
            "1    20\n",
            "2    30\n",
            "3    40\n",
            "4    50\n",
            "dtype: int64\n",
            "RangeIndex(start=0, stop=5, step=1)\n",
            "[10 20 30 40 50]\n",
            "20\n",
            "------------------------------\n",
            "a    10\n",
            "b    20\n",
            "c    30\n",
            "d    40\n",
            "e    50\n",
            "dtype: int64\n",
            "a    10\n",
            "e    50\n",
            "dtype: int64\n",
            "b    20\n",
            "c    30\n",
            "dtype: int64\n"
          ]
        }
      ],
      "source": [
        "import pandas as pd\n",
        "\n",
        "obj = pd.Series([10,20,30,40,50]) #pandas series를 사용하여 배열 선언\n",
        "obj_2 = pd.Series([10,20,30,40,50], index=['a','b','c','d','e'])#index와 함께 배열 선언\n",
        "\n",
        "print(obj)\n",
        "print(obj.index) #객체의 인덱스\n",
        "print(obj.values) #객체의 값 \n",
        "print(obj[1]) #인덱스를 통해 값 접근\n",
        "print('-' * 30)\n",
        "print(obj_2)\n",
        "print(obj_2[['a','e']]) #인덱스 'a','e'에 해당되는 요소 값 출력\n",
        "print(obj_2[1:3]) #인덱스 1에서 2까지의 요소 값 출력"
      ]
    },
    {
      "cell_type": "markdown",
      "metadata": {
        "id": "9StgVNA4cY7D"
      },
      "source": [
        "**Series 객체의 연산과 조건식**"
      ]
    },
    {
      "cell_type": "code",
      "execution_count": null,
      "metadata": {
        "colab": {
          "base_uri": "https://localhost:8080/"
        },
        "id": "1PaxczDJcdhU",
        "outputId": "c1304deb-d5b6-426c-ca39-29e957392291"
      },
      "outputs": [
        {
          "name": "stdout",
          "output_type": "stream",
          "text": [
            "0    100\n",
            "1    200\n",
            "2    300\n",
            "3    400\n",
            "dtype: int64\n",
            "------------------------------\n",
            "0    False\n",
            "1     True\n",
            "2     True\n",
            "3     True\n",
            "dtype: bool\n"
          ]
        }
      ],
      "source": [
        "import pandas as pd\n",
        "\n",
        "obj = pd.Series([10,20,30,40])\n",
        "\n",
        "print(obj * 10) # 모든 요소에 10을 곱하여 출력\n",
        "print('-' * 30)\n",
        "print(obj >= 20) # 20보다 크거나 같으면 True, 아니면 False 출력"
      ]
    },
    {
      "cell_type": "markdown",
      "metadata": {
        "id": "bpBznXv-eUsT"
      },
      "source": [
        "**Series 객체와 for문**"
      ]
    },
    {
      "cell_type": "code",
      "execution_count": null,
      "metadata": {
        "colab": {
          "base_uri": "https://localhost:8080/"
        },
        "id": "8eJP8RTeee5p",
        "outputId": "10830ba5-2d0a-4a2a-a433-8e9f7c65087c"
      },
      "outputs": [
        {
          "name": "stdout",
          "output_type": "stream",
          "text": [
            "유재석    35\n",
            "박명수    60\n",
            "태진아    85\n",
            "dtype: int64\n",
            "------------------------------\n",
            "유재석 : 35세\n",
            "박명수 : 60세\n",
            "태진아 : 85세\n"
          ]
        }
      ],
      "source": [
        "import pandas as pd\n",
        "\n",
        "data = pd.Series([35, 60, 85], index=['유재석','박명수','태진아'])\n",
        "\n",
        "print(data)\n",
        "print('-' * 30)\n",
        "for i, v in data.items() :  #item() 메소드 : Series 객체에 있는 요소를 튜플 형태로 반환\n",
        "  print('%s : %d세'% (i,v))"
      ]
    },
    {
      "cell_type": "markdown",
      "metadata": {
        "id": "J5HFl_cGhLyq"
      },
      "source": [
        "**Series 객체와 딕셔너리**"
      ]
    },
    {
      "cell_type": "code",
      "execution_count": null,
      "metadata": {
        "colab": {
          "base_uri": "https://localhost:8080/"
        },
        "id": "ijDEHeKPf2dq",
        "outputId": "9be91ca8-b993-4a46-abb1-2fb0d0e68c8d"
      },
      "outputs": [
        {
          "name": "stdout",
          "output_type": "stream",
          "text": [
            "유재석    35.0\n",
            "박명수    60.0\n",
            "태진아    85.0\n",
            "정형돈    52.0\n",
            "하하      NaN\n",
            "dtype: float64\n",
            "52.0\n"
          ]
        }
      ],
      "source": [
        "import pandas as pd\n",
        "\n",
        "data = pd.Series({'유재석':35,'박명수':60,'태진아':85}, index=['유재석','박명수','태진아','정형돈','하하']) # 딕셔너리를 통해 value 값을 대입하면서 index 이름을 지정\n",
        "data['정형돈']=52 # data 배열에서 index가 '정형돈'인 요소에 52 대입\n",
        "print(data)\n",
        "print(data[3])"
      ]
    },
    {
      "cell_type": "markdown",
      "metadata": {
        "id": "ZhUO1D-khbGf"
      },
      "source": [
        "**DataFrame 객체 생성 및 인덱스 설정**"
      ]
    },
    {
      "cell_type": "code",
      "execution_count": null,
      "metadata": {
        "colab": {
          "base_uri": "https://localhost:8080/"
        },
        "id": "jhWV0-P-heYZ",
        "outputId": "0be9a0d2-0704-4fc8-df7a-bd44dadd12a0"
      },
      "outputs": [
        {
          "name": "stdout",
          "output_type": "stream",
          "text": [
            "{'이름': ['유재석', '박명수', '정형돈', '하하'], '나이': [35, 60, 52, 38], '키': [180, 175, 160, 150]}\n",
            "    이름  나이    키\n",
            "0  유재석  35  180\n",
            "1  박명수  60  175\n",
            "2  정형돈  52  160\n",
            "3   하하  38  150\n",
            "    이름  나이    키  몸무게\n",
            "0  유재석  35  180  NaN\n",
            "1  박명수  60  175  NaN\n",
            "2  정형돈  52  160  NaN\n",
            "3   하하  38  150  NaN\n",
            "    이름  나이    키\n",
            "0  유재석  35  180\n",
            "1  박명수  60  175\n",
            "    이름  나이    키  몸무게\n",
            "2  정형돈  52  160  NaN\n",
            "3   하하  38  150  NaN\n"
          ]
        }
      ],
      "source": [
        "import pandas as pd\n",
        "\n",
        "data = {'이름':['유재석','박명수','정형돈','하하'],\n",
        "        '나이':[35,60,52,38],\n",
        "        '키':[180,175,160,150]}\n",
        "frame = pd.DataFrame(data) # data를 DataFrame(Table 형식)으로 생성\n",
        "frame_2 = pd.DataFrame(data, \n",
        "                       columns=['이름','나이','키','몸무게']) # column에 '몸무게'를 추가하여 DataFrame 생성\n",
        "print(data)\n",
        "print(frame)\n",
        "print(frame_2)\n",
        "print(frame.head(2)) #상위 n개 자료 출력\n",
        "print(frame_2.tail(2)) #하위 n개 자료 출력"
      ]
    },
    {
      "cell_type": "markdown",
      "metadata": {
        "id": "noEZSktvNe8v"
      },
      "source": [
        "**DataFrame 요소 추출하기(loc과 iloc활용)**"
      ]
    },
    {
      "cell_type": "code",
      "execution_count": null,
      "metadata": {
        "colab": {
          "base_uri": "https://localhost:8080/"
        },
        "id": "aad2sqXnNjE7",
        "outputId": "0a625862-3a83-471b-a609-31a62e92aa40"
      },
      "outputs": [
        {
          "name": "stdout",
          "output_type": "stream",
          "text": [
            "     이름  나이    키\n",
            "첫째  유재석  35  180\n",
            "둘째  박명수  60  175\n",
            "셋째  정형돈  52  160\n",
            "넷째   하하  38  150\n",
            "박명수\n",
            "나이     38\n",
            "키     150\n",
            "Name: 넷째, dtype: object\n",
            "------------------------------\n",
            "정형돈\n",
            "이름    하하\n",
            "나이    38\n",
            "Name: 넷째, dtype: object\n",
            "     이름    키\n",
            "첫째  유재석  180\n",
            "둘째  박명수  175\n",
            "셋째  정형돈  160\n",
            "넷째   하하  150\n"
          ]
        }
      ],
      "source": [
        "import pandas as pd \n",
        "\n",
        "data = {'이름':['유재석','박명수','정형돈','하하'],\n",
        "        '나이':[35,60,52,38],\n",
        "        '키':[180,175,160,150]}\n",
        "frame = pd.DataFrame(data, index=['첫째','둘째','셋째','넷째'])\n",
        "print(frame)\n",
        "print(frame.loc['둘째','이름']) #행 인덱스가 '둘째'이고 열 인덱스가 '이름'에 해당되는 요소 반환\n",
        "print(frame.loc['넷째',['나이','키']]) #행 인덱스가 '넷째'이고 열 인덱스 중 '나이', '키'에 해당되는 요소 반환\n",
        "print('-' * 30) # '-' 30번 출력\n",
        "print(frame.iloc[2,0]) #행 인덱스가 2이고 열 인덱스는 0인 요소 반환\n",
        "print(frame.iloc[3,:2]) #행 인덱스가 3이고 열 인덱스는 0과 1인 열에 해당되는 요소 반환\n",
        "print(frame.iloc[:,[0,2]]) #행 전체에 대해 열 인덱스가 0과 2인 요소 반환"
      ]
    },
    {
      "cell_type": "markdown",
      "metadata": {
        "id": "D3OcMSX1Epn7"
      },
      "source": [
        "**합계와 평균/정렬하기**"
      ]
    },
    {
      "cell_type": "code",
      "execution_count": null,
      "metadata": {
        "colab": {
          "base_uri": "https://localhost:8080/"
        },
        "id": "zhKxAhF5Es0j",
        "outputId": "5e65c9e7-5804-4e59-fabf-91c60abec502"
      },
      "outputs": [
        {
          "name": "stdout",
          "output_type": "stream",
          "text": [
            "   나이    키\n",
            "0  35  180\n",
            "1  60  175\n",
            "2  52  160\n",
            "3  38  150\n",
            "    이름  나이    키\n",
            "1  박명수  60  175\n",
            "2  정형돈  52  160\n",
            "3   하하  38  150\n",
            "0  유재석  35  180\n",
            "나이    185\n",
            "키     665\n",
            "dtype: int64\n",
            "나이     46.25\n",
            "키     166.25\n",
            "dtype: float64\n"
          ]
        }
      ],
      "source": [
        "import pandas as pd\n",
        "\n",
        "data = {'이름':['유재석','박명수','정형돈','하하'],\n",
        "        '나이':[35,60,52,38],\n",
        "        '키':[180,175,160,150]}\n",
        "frame = pd.DataFrame(data) # DataFrame 객체 생성\n",
        "frame_2 = frame.iloc[:,[1,2]] #모든 행에 대해 열 인덱스 1,2인 열의 데이터 추출\n",
        "rank = frame.sort_values(by=['나이'], ascending=False) # '나이'인덱스를 기준으로 내림차순으로 정렬하여 rank에 저장\n",
        "total = frame_2.sum(axis=0) #frame_2에 저장된 나이, 키의 총 합계를 구함\n",
        "avg = frame_2.mean(axis=0) #frame_2에 저장된 나이, 키의 평균을 구함\n",
        "\n",
        "print(frame_2)\n",
        "print(rank)\n",
        "print(total)\n",
        "print(avg)\n",
        "#print(frame.describe()) #간단한 통계 확인하기"
      ]
    },
    {
      "cell_type": "markdown",
      "metadata": {
        "id": "yltmijfQjdqK"
      },
      "source": [
        "**이번 강의도 수고 많으셨습니다. 감사합니다.**"
      ]
    }
  ],
  "metadata": {
    "colab": {
      "collapsed_sections": [],
      "name": "numpy.ipynb",
      "provenance": []
    },
    "kernelspec": {
      "display_name": "Python 3",
      "name": "python3"
    }
  },
  "nbformat": 4,
  "nbformat_minor": 0
}
